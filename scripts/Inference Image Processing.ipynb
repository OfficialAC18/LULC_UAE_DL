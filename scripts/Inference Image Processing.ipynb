{
 "cells": [
  {
   "cell_type": "code",
   "execution_count": null,
   "id": "a43e38ea",
   "metadata": {},
   "outputs": [],
   "source": [
    "from rastervision.core.data import RasterioCRSTransformer, GeoJSONVectorSource"
   ]
  },
  {
   "cell_type": "code",
   "execution_count": null,
   "id": "216cab1f",
   "metadata": {},
   "outputs": [],
   "source": [
    "#Function call to convert DN to class_id\n",
    "def convert_feature_to_class_id(feature_name:str):\n",
    "    #This modifies the underlying GeoJSON in vector_source\n",
    "    try:\n",
    "        for feature in vector_data['features']:\n",
    "            feature['properties']['class_id'] = feature['properties'].pop(feature_name)\n",
    "    except:\n",
    "        print(\"The feature does not exist in the dictionary\")\n",
    "        \n",
    "\n",
    "#Function to remove the null classes\n",
    "def remove_unwanted_classes(geojson:dict, inplace = False):\n",
    "    if inplace == False:\n",
    "        from copy import deepcopy\n",
    "        mod_geojson = deepcopy(geojson)\n",
    "    else:\n",
    "        mod_geojson = geojson\n",
    "    num_points = {k:0 for k in range(12)}\n",
    "    num_points_after = {k:0 for k in range(12)}\n",
    "    classes_to_show = []\n",
    "    \n",
    "    for feature in mod_geojson['features']:\n",
    "        # Get the current class_id\n",
    "        # Getting the class memberships\n",
    "        class_id = feature['properties']['class_id']\n",
    "        num_points[class_id]+=1\n",
    "\n",
    "    \n",
    "\n",
    "    print(\"Class Membership(Before)\")\n",
    "    for k,v in num_points.items():\n",
    "        print(k, v)\n",
    "        if v!=0 or k==0:\n",
    "            classes_to_show.append(k)\n",
    "    \n",
    "    #Get the classes with 0 points in them\n",
    "    remove_classes = [3,6,10]\n",
    "    remove_classes.sort()\n",
    "    remove_classes = list(map(lambda x: x - remove_classes.index(x),remove_classes))\n",
    "    \n",
    "    #Iterate through remove_classes and shift class_id (only for 3, 6 and 10)\n",
    "    for remove_id in remove_classes:\n",
    "        for feature in mod_geojson['features']:\n",
    "            class_id = feature['properties']['class_id']\n",
    "            if class_id > remove_id:\n",
    "                feature['properties']['class_id'] = class_id - 1\n",
    "                \n",
    "    for feature in mod_geojson['features']:\n",
    "    # Get the current class_id\n",
    "    # Getting the class memberships\n",
    "        class_id = feature['properties']['class_id']\n",
    "        num_points_after[class_id]+=1\n",
    "    \n",
    "    \n",
    "    print(\"\\n\\nClass Membership(After)\")\n",
    "    for k,v in num_points_after.items():\n",
    "        print(k, v)\n",
    "    \n",
    "    if inplace == False:\n",
    "        return mod_geojson\n",
    "    "
   ]
  }
 ],
 "metadata": {
  "kernelspec": {
   "display_name": "Python 3 (ipykernel)",
   "language": "python",
   "name": "python3"
  },
  "language_info": {
   "codemirror_mode": {
    "name": "ipython",
    "version": 3
   },
   "file_extension": ".py",
   "mimetype": "text/x-python",
   "name": "python",
   "nbconvert_exporter": "python",
   "pygments_lexer": "ipython3",
   "version": "3.9.16"
  }
 },
 "nbformat": 4,
 "nbformat_minor": 5
}
